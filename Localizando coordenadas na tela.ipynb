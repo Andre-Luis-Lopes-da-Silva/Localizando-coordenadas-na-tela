{
 "cells": [
  {
   "cell_type": "code",
   "execution_count": 2,
   "id": "bcdb12da",
   "metadata": {},
   "outputs": [
    {
     "name": "stdout",
     "output_type": "stream",
     "text": [
      "Collecting mouse\n",
      "  Downloading mouse-0.7.1-py2.py3-none-any.whl (16 kB)\n",
      "Installing collected packages: mouse\n",
      "Successfully installed mouse-0.7.1\n"
     ]
    }
   ],
   "source": [
    "#!pip install mouse"
   ]
  },
  {
   "cell_type": "code",
   "execution_count": 20,
   "id": "fe3f4b92",
   "metadata": {},
   "outputs": [],
   "source": [
    "#!pip install keyboard"
   ]
  },
  {
   "cell_type": "code",
   "execution_count": 21,
   "id": "7c991056",
   "metadata": {},
   "outputs": [],
   "source": [
    "import mouse\n",
    "import pyautogui\n",
    "import time\n",
    "import keyboard"
   ]
  },
  {
   "cell_type": "code",
   "execution_count": 24,
   "id": "a74f02ff",
   "metadata": {},
   "outputs": [
    {
     "name": "stdout",
     "output_type": "stream",
     "text": [
      "(-1061, 682)\n"
     ]
    }
   ],
   "source": [
    "print(mouse.get_position())"
   ]
  },
  {
   "cell_type": "code",
   "execution_count": 12,
   "id": "50fc7a07",
   "metadata": {},
   "outputs": [],
   "source": [
    "#print(pyautogui.displayMousePosition())"
   ]
  },
  {
   "cell_type": "code",
   "execution_count": 22,
   "id": "ce8cf94b",
   "metadata": {},
   "outputs": [],
   "source": [
    "def spam_ordinates():\n",
    "    ''' function to determin the mouse coordinates'''\n",
    "\n",
    "    print('press \"x\" key to lock position...')\n",
    "\n",
    "    while True:\n",
    "        # Check if x key is pressed\n",
    "        time.sleep(0.1)\n",
    "\n",
    "        if keyboard.is_pressed('x'):\n",
    "            print('x key pressed...')\n",
    "            break\n",
    "\n",
    "    # Get the current mouse position\n",
    "    x, y = pyautogui.position()\n",
    "    print(f'spam at position: {x}, {y}')\n",
    "\n",
    "    return x, y"
   ]
  },
  {
   "cell_type": "code",
   "execution_count": 23,
   "id": "63a26cae",
   "metadata": {
    "scrolled": true
   },
   "outputs": [
    {
     "name": "stdout",
     "output_type": "stream",
     "text": [
      "press \"x\" key to lock position...\n",
      "x key pressed...\n",
      "spam at position: -879, 667\n"
     ]
    },
    {
     "data": {
      "text/plain": [
       "(-879, 667)"
      ]
     },
     "execution_count": 23,
     "metadata": {},
     "output_type": "execute_result"
    }
   ],
   "source": [
    "spam_ordinates()"
   ]
  }
 ],
 "metadata": {
  "kernelspec": {
   "display_name": "Python 3 (ipykernel)",
   "language": "python",
   "name": "python3"
  },
  "language_info": {
   "codemirror_mode": {
    "name": "ipython",
    "version": 3
   },
   "file_extension": ".py",
   "mimetype": "text/x-python",
   "name": "python",
   "nbconvert_exporter": "python",
   "pygments_lexer": "ipython3",
   "version": "3.11.4"
  }
 },
 "nbformat": 4,
 "nbformat_minor": 5
}
